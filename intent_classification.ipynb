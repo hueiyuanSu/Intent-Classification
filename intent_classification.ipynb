{
 "cells": [
  {
   "cell_type": "markdown",
   "metadata": {},
   "source": [
    "# Intent Classification"
   ]
  },
  {
   "cell_type": "markdown",
   "metadata": {},
   "source": [
    "### Data Preprocessing"
   ]
  },
  {
   "cell_type": "code",
   "execution_count": 1,
   "metadata": {
    "collapsed": true
   },
   "outputs": [],
   "source": [
    "import numpy as np\n",
    "import json\n",
    "import os"
   ]
  },
  {
   "cell_type": "markdown",
   "metadata": {},
   "source": [
    "The raw data is in json and contains extra info abput the segmentation of the commands. The raw files will be processed and put in the processed data folder."
   ]
  },
  {
   "cell_type": "code",
   "execution_count": 2,
   "metadata": {
    "collapsed": true
   },
   "outputs": [],
   "source": [
    "rdata_path = './raw_data'\n",
    "data_path = './processed_data'"
   ]
  },
  {
   "cell_type": "markdown",
   "metadata": {},
   "source": [
    "As you can see we have 7 different classes of intentions."
   ]
  },
  {
   "cell_type": "code",
   "execution_count": 3,
   "metadata": {},
   "outputs": [
    {
     "data": {
      "text/plain": [
       "['AddToPlaylist',\n",
       " 'BookRestaurant',\n",
       " 'GetWeather',\n",
       " 'PlayMusic',\n",
       " 'RateBook',\n",
       " 'SearchCreativeWork',\n",
       " 'SearchScreeningEvent']"
      ]
     },
     "execution_count": 3,
     "metadata": {},
     "output_type": "execute_result"
    }
   ],
   "source": [
    "classes = os.listdir(rdata_path)\n",
    "classes"
   ]
  },
  {
   "cell_type": "code",
   "execution_count": 4,
   "metadata": {
    "collapsed": true
   },
   "outputs": [],
   "source": [
    "def process_data(jsfile, clas):\n",
    "    \"\"\"\n",
    "    This function gets an opened json file and returns \n",
    "    a string containing the commands on separate lines\n",
    "    for a specified class of intent\n",
    "    \n",
    "    \"\"\"\n",
    "    d = json.load(jsfile)\n",
    "    text = ''\n",
    "    for item in[command['data'] for command in d[clas]]:\n",
    "        for dic in item:\n",
    "            text += dic.get('text')\n",
    "        text +='\\n'\n",
    "    return text"
   ]
  },
  {
   "cell_type": "code",
   "execution_count": 5,
   "metadata": {
    "collapsed": true
   },
   "outputs": [],
   "source": [
    "# There's some latin-1 encoding in the PlayMusic file so we take care of it\n",
    "for clas in classes:\n",
    "    if clas == 'PlayMusic':\n",
    "        enc = 'latin-1'\n",
    "    else:\n",
    "        enc = 'utf-8'\n",
    "    # Opening the train and validate files and writing the processed data\n",
    "    with open(rdata_path+'/'+clas+'/train_'+clas+'_full.json', encoding=enc) as jsfile:\n",
    "        text = process_data(jsfile, clas)\n",
    "    with open(data_path+'/train_'+clas+'.txt', 'w', encoding=enc) as txtfile:\n",
    "        txtfile.write(text)\n",
    "    with open(rdata_path+'/'+clas+'/validate_'+clas+'.json', encoding=enc) as jsfile:\n",
    "        text = process_data(jsfile, clas)\n",
    "    with open(data_path+'/validate_'+clas+'.txt', 'w', encoding=enc) as txtfile:\n",
    "        txtfile.write(text)"
   ]
  },
  {
   "cell_type": "markdown",
   "metadata": {},
   "source": [
    "Next we load up the processed data"
   ]
  },
  {
   "cell_type": "code",
   "execution_count": 6,
   "metadata": {
    "collapsed": true
   },
   "outputs": [],
   "source": [
    "train_txt = []\n",
    "train_label = []\n",
    "test_txt = []\n",
    "test_labels = []\n",
    "for i, clas in enumerate(classes):\n",
    "    label=[0]*len(classes)\n",
    "    label[i]=1\n",
    "    if clas=='PlayMusic':\n",
    "        enc='latin-1'\n",
    "    else:\n",
    "        enc='utf-8'\n",
    "    with open(data_path+'/train_'+clas+'.txt', encoding=enc) as txtfile:\n",
    "        for line in txtfile:\n",
    "            train_txt.append(line.replace('\\n','')\\\n",
    "                             .replace(\"'ve\", \" 've\")\\\n",
    "                             .replace(\"'s\", \" 's\")\\\n",
    "                             .replace(\"n't\", \" n't\")\\\n",
    "                             .replace(\"'s\", \" 's\"))\n",
    "            train_label.append(label)\n",
    "    with open(data_path+'/validate_'+clas+'.txt', encoding=enc) as txtfile:\n",
    "        for line in txtfile:\n",
    "            test_txt.append(line.replace('\\n','')\\\n",
    "                             .replace(\"'ve\", \" 've\")\\\n",
    "                             .replace(\"'s\", \" 's\")\\\n",
    "                             .replace(\"n't\", \" n't\")\\\n",
    "                             .replace(\"'s\", \" 's\"))\n",
    "            test_labels.append(label)"
   ]
  },
  {
   "cell_type": "markdown",
   "metadata": {},
   "source": [
    "Here we decide about our sequence length. It is based on 98 percentile of all the command length in the train data."
   ]
  },
  {
   "cell_type": "code",
   "execution_count": 7,
   "metadata": {},
   "outputs": [
    {
     "data": {
      "text/plain": [
       "17"
      ]
     },
     "execution_count": 7,
     "metadata": {},
     "output_type": "execute_result"
    }
   ],
   "source": [
    "ls=[]\n",
    "for c in train_txt:\n",
    "    ls.append(len(c.split()))\n",
    "maxLen=int(np.percentile(ls, 98))\n",
    "maxLen"
   ]
  },
  {
   "cell_type": "markdown",
   "metadata": {},
   "source": [
    "Opening the GloVe word embeddings. Not included in the repo due to volume. Please download it from [here](https://nlp.stanford.edu/projects/glove/) and place it in the processed data path."
   ]
  },
  {
   "cell_type": "code",
   "execution_count": 8,
   "metadata": {
    "collapsed": true
   },
   "outputs": [],
   "source": [
    "embeddings_index={}\n",
    "with open(data_path+'/glove50.txt', encoding='utf8') as f:\n",
    "    for line in f:\n",
    "        values = line.split()\n",
    "        word = values[0]\n",
    "        coefs = np.asarray(values[1:], dtype='float32')\n",
    "        embeddings_index[word] = coefs"
   ]
  },
  {
   "cell_type": "markdown",
   "metadata": {},
   "source": [
    "Tokenizing the sequences"
   ]
  },
  {
   "cell_type": "code",
   "execution_count": 9,
   "metadata": {},
   "outputs": [
    {
     "name": "stderr",
     "output_type": "stream",
     "text": [
      "Using TensorFlow backend.\n"
     ]
    }
   ],
   "source": [
    "from keras.preprocessing.text import Tokenizer\n",
    "from keras.preprocessing.sequence import pad_sequences\n",
    "max_num_words = 40000\n",
    "embedding_dim=len(embeddings_index['the'])\n",
    "tokenizer = Tokenizer(num_words=max_num_words)\n",
    "tokenizer.fit_on_texts(train_txt)\n",
    "train_sequences = tokenizer.texts_to_sequences(train_txt)\n",
    "train_sequences = pad_sequences(train_sequences, maxlen=maxLen, padding='post')\n",
    "test_sequences = tokenizer.texts_to_sequences(test_txt)\n",
    "test_sequences = pad_sequences(test_sequences, maxlen=maxLen, padding='post')\n",
    "word_index = tokenizer.word_index"
   ]
  },
  {
   "cell_type": "markdown",
   "metadata": {},
   "source": [
    "Some stats needed for the initialization of the embedding matrix"
   ]
  },
  {
   "cell_type": "code",
   "execution_count": 10,
   "metadata": {},
   "outputs": [
    {
     "data": {
      "text/plain": [
       "(0.020940498, 0.6441043)"
      ]
     },
     "execution_count": 10,
     "metadata": {},
     "output_type": "execute_result"
    }
   ],
   "source": [
    "all_embs = np.stack(embeddings_index.values())\n",
    "emb_mean,emb_std = all_embs.mean(), all_embs.std()\n",
    "emb_mean,emb_std"
   ]
  },
  {
   "cell_type": "markdown",
   "metadata": {},
   "source": [
    "Constructing the embedding matrix"
   ]
  },
  {
   "cell_type": "code",
   "execution_count": 12,
   "metadata": {},
   "outputs": [],
   "source": [
    "num_words = min(max_num_words, len(word_index) )+1\n",
    "embedding_matrix = np.random.normal(emb_mean, emb_std, (num_words, embedding_dim))\n",
    "for word, i in word_index.items():\n",
    "    if i >= max_num_words:\n",
    "        break\n",
    "    embedding_vector = embeddings_index.get(word)\n",
    "    if embedding_vector is not None:\n",
    "        # words not found in embedding index will be random.\n",
    "        embedding_matrix[i] = embedding_vector"
   ]
  },
  {
   "cell_type": "markdown",
   "metadata": {},
   "source": [
    "### RNN Model Creation"
   ]
  },
  {
   "cell_type": "code",
   "execution_count": 15,
   "metadata": {
    "collapsed": true
   },
   "outputs": [],
   "source": [
    "from keras.models import Model, Sequential\n",
    "from keras.layers import Dense, Input, Dropout, LSTM, Activation, Bidirectional\n",
    "from keras.layers.embeddings import Embedding"
   ]
  },
  {
   "cell_type": "markdown",
   "metadata": {},
   "source": [
    "Building the model using a 2-layer-LSTM + dense architecture."
   ]
  },
  {
   "cell_type": "code",
   "execution_count": 22,
   "metadata": {
    "collapsed": true
   },
   "outputs": [],
   "source": [
    "model = Sequential()\n",
    "model.add(Embedding(num_words, embedding_dim, trainable=True, weights=[embedding_matrix]))\n",
    "model.add(Dropout(0.2))\n",
    "model.add(Bidirectional(LSTM(128, return_sequences=True, recurrent_dropout=0.1, dropout=0.1), 'concat'))\n",
    "model.add(Dropout(0.3))\n",
    "model.add(LSTM(128, return_sequences=False, recurrent_dropout=0.1, dropout=0.1))\n",
    "model.add(Dropout(0.3))\n",
    "model.add(Dense(64, activation='relu'))\n",
    "model.add(Dropout(0.3))\n",
    "model.add(Dense(len(classes), activation='softmax'))"
   ]
  },
  {
   "cell_type": "code",
   "execution_count": 23,
   "metadata": {},
   "outputs": [
    {
     "name": "stdout",
     "output_type": "stream",
     "text": [
      "_________________________________________________________________\n",
      "Layer (type)                 Output Shape              Param #   \n",
      "=================================================================\n",
      "embedding_3 (Embedding)      (None, None, 50)          573150    \n",
      "_________________________________________________________________\n",
      "dropout_5 (Dropout)          (None, None, 50)          0         \n",
      "_________________________________________________________________\n",
      "bidirectional_2 (Bidirection (None, None, 256)         183296    \n",
      "_________________________________________________________________\n",
      "dropout_6 (Dropout)          (None, None, 256)         0         \n",
      "_________________________________________________________________\n",
      "lstm_4 (LSTM)                (None, 128)               197120    \n",
      "_________________________________________________________________\n",
      "dropout_7 (Dropout)          (None, 128)               0         \n",
      "_________________________________________________________________\n",
      "dense_3 (Dense)              (None, 64)                8256      \n",
      "_________________________________________________________________\n",
      "dropout_8 (Dropout)          (None, 64)                0         \n",
      "_________________________________________________________________\n",
      "dense_4 (Dense)              (None, 7)                 455       \n",
      "=================================================================\n",
      "Total params: 962,277\n",
      "Trainable params: 962,277\n",
      "Non-trainable params: 0\n",
      "_________________________________________________________________\n"
     ]
    }
   ],
   "source": [
    "model.summary()"
   ]
  },
  {
   "cell_type": "code",
   "execution_count": 24,
   "metadata": {
    "collapsed": true
   },
   "outputs": [],
   "source": [
    "model.compile(loss='categorical_crossentropy', optimizer='adam', metrics=['acc'])"
   ]
  },
  {
   "cell_type": "markdown",
   "metadata": {},
   "source": [
    "### Training the Model"
   ]
  },
  {
   "cell_type": "code",
   "execution_count": 25,
   "metadata": {},
   "outputs": [
    {
     "name": "stdout",
     "output_type": "stream",
     "text": [
      "Train on 13931 samples, validate on 701 samples\n",
      "Epoch 1/16\n",
      "13931/13931 [==============================] - 23s 2ms/step - loss: 0.7799 - acc: 0.7207 - val_loss: 0.1587 - val_acc: 0.9501\n",
      "Epoch 2/16\n",
      "13931/13931 [==============================] - 19s 1ms/step - loss: 0.2410 - acc: 0.9287 - val_loss: 0.0815 - val_acc: 0.9715\n",
      "Epoch 3/16\n",
      "13931/13931 [==============================] - 19s 1ms/step - loss: 0.1645 - acc: 0.9506 - val_loss: 0.0724 - val_acc: 0.9786\n",
      "Epoch 4/16\n",
      "13931/13931 [==============================] - 19s 1ms/step - loss: 0.1259 - acc: 0.9620 - val_loss: 0.0487 - val_acc: 0.9800\n",
      "Epoch 5/16\n",
      "13931/13931 [==============================] - 19s 1ms/step - loss: 0.1078 - acc: 0.9663 - val_loss: 0.0465 - val_acc: 0.9843\n",
      "Epoch 6/16\n",
      "13931/13931 [==============================] - 19s 1ms/step - loss: 0.0942 - acc: 0.9716 - val_loss: 0.0396 - val_acc: 0.9829\n",
      "Epoch 7/16\n",
      "13931/13931 [==============================] - 19s 1ms/step - loss: 0.0905 - acc: 0.9737 - val_loss: 0.0358 - val_acc: 0.9886\n",
      "Epoch 8/16\n",
      "13931/13931 [==============================] - 19s 1ms/step - loss: 0.0730 - acc: 0.9761 - val_loss: 0.0396 - val_acc: 0.9857\n",
      "Epoch 9/16\n",
      "13931/13931 [==============================] - 19s 1ms/step - loss: 0.0674 - acc: 0.9788 - val_loss: 0.0357 - val_acc: 0.9872\n",
      "Epoch 10/16\n",
      "13931/13931 [==============================] - 19s 1ms/step - loss: 0.0689 - acc: 0.9795 - val_loss: 0.0321 - val_acc: 0.9843\n",
      "Epoch 11/16\n",
      "13931/13931 [==============================] - 19s 1ms/step - loss: 0.0572 - acc: 0.9814 - val_loss: 0.0301 - val_acc: 0.9872\n",
      "Epoch 12/16\n",
      "13931/13931 [==============================] - 19s 1ms/step - loss: 0.0526 - acc: 0.9832 - val_loss: 0.0245 - val_acc: 0.9914\n",
      "Epoch 13/16\n",
      "13931/13931 [==============================] - 19s 1ms/step - loss: 0.0483 - acc: 0.9849 - val_loss: 0.0601 - val_acc: 0.9815\n",
      "Epoch 14/16\n",
      "13931/13931 [==============================] - 19s 1ms/step - loss: 0.0463 - acc: 0.9857 - val_loss: 0.0362 - val_acc: 0.9886\n",
      "Epoch 15/16\n",
      "13931/13931 [==============================] - 19s 1ms/step - loss: 0.0525 - acc: 0.9849 - val_loss: 0.0300 - val_acc: 0.9857\n",
      "Epoch 16/16\n",
      "13931/13931 [==============================] - 19s 1ms/step - loss: 0.0429 - acc: 0.9871 - val_loss: 0.0327 - val_acc: 0.9843\n"
     ]
    },
    {
     "data": {
      "text/plain": [
       "<keras.callbacks.History at 0x233b19d0eb8>"
      ]
     },
     "execution_count": 25,
     "metadata": {},
     "output_type": "execute_result"
    }
   ],
   "source": [
    "model.fit(train_sequences, train_label, epochs = 16,\n",
    "          batch_size = 64, shuffle=True,\n",
    "          validation_data=[test_sequences, test_labels])"
   ]
  },
  {
   "cell_type": "markdown",
   "metadata": {},
   "source": [
    "Training a bit further using sgd to see if we can make any improvements"
   ]
  },
  {
   "cell_type": "code",
   "execution_count": 26,
   "metadata": {
    "collapsed": true
   },
   "outputs": [],
   "source": [
    "model.compile(loss='categorical_crossentropy', optimizer='sgd', metrics=['acc'])"
   ]
  },
  {
   "cell_type": "code",
   "execution_count": null,
   "metadata": {
    "collapsed": true
   },
   "outputs": [],
   "source": [
    "model.fit(train_sequences, train_label, epochs = 16,\n",
    "          batch_size = 64, shuffle=True,\n",
    "          validation_data=[test_sequences, test_labels])"
   ]
  },
  {
   "cell_type": "markdown",
   "metadata": {},
   "source": [
    "### Inspection"
   ]
  },
  {
   "cell_type": "markdown",
   "metadata": {},
   "source": [
    "Assessing where the model went wrong"
   ]
  },
  {
   "cell_type": "code",
   "execution_count": 39,
   "metadata": {
    "collapsed": true
   },
   "outputs": [],
   "source": [
    "test_preds = model.predict(test_sequences)"
   ]
  },
  {
   "cell_type": "code",
   "execution_count": 54,
   "metadata": {
    "collapsed": true
   },
   "outputs": [],
   "source": [
    "false_preds=np.nonzero(~np.equal(np.argmax(test_preds,1),np.argmax(test_labels,1)))[0]"
   ]
  },
  {
   "cell_type": "markdown",
   "metadata": {},
   "source": [
    "As you can see these false predictions are truly justified as they are very close to the other classes format and wording."
   ]
  },
  {
   "cell_type": "code",
   "execution_count": 73,
   "metadata": {},
   "outputs": [
    {
     "name": "stdout",
     "output_type": "stream",
     "text": [
      "The command is: When is sunrise for AR, The label is:GetWeather, The prediction is:SearchScreeningEvent\n",
      "\n",
      "The command is: Where is Belgium located, The label is:GetWeather, The prediction is:BookRestaurant\n",
      "\n",
      "The command is: Live In L.aJoseph Meyer please, The label is:PlayMusic, The prediction is:SearchCreativeWork\n",
      "\n",
      "The command is: Where can I see The Prime Ministers: The Pioneers, The label is:SearchScreeningEvent, The prediction is:SearchCreativeWork\n",
      "\n",
      "The command is: I want to see Medal for the General, The label is:SearchScreeningEvent, The prediction is:SearchCreativeWork\n",
      "\n",
      "The command is: I want to see Shattered Image., The label is:SearchScreeningEvent, The prediction is:SearchCreativeWork\n",
      "\n",
      "The command is: I want to see Outcast., The label is:SearchScreeningEvent, The prediction is:SearchCreativeWork\n",
      "\n"
     ]
    }
   ],
   "source": [
    "for ind in false_preds:\n",
    "    print('The command is: {}, The label is:{}, The prediction is:{}\\n'\\\n",
    "          .format(test_txt[ind],\n",
    "                  classes[np.argmax(test_labels[ind])],\n",
    "                  classes[np.argmax(test_preds[ind])]))"
   ]
  },
  {
   "cell_type": "markdown",
   "metadata": {},
   "source": [
    "### Creating Convolutional Model"
   ]
  },
  {
   "cell_type": "markdown",
   "metadata": {},
   "source": [
    "This model was inspired by this [repo](https://github.com/ajinkyaT/CNN_Intent_Classification)"
   ]
  },
  {
   "cell_type": "code",
   "execution_count": 19,
   "metadata": {},
   "outputs": [],
   "source": [
    "from keras.layers import Flatten, Input\n",
    "from keras.models import Model\n",
    "from keras.layers import Reshape, Dropout, Concatenate\n",
    "from keras.layers import Conv2D, MaxPool2D, AvgPool2D, GlobalMaxPool2D, GlobalAvgPool2D"
   ]
  },
  {
   "cell_type": "code",
   "execution_count": 21,
   "metadata": {},
   "outputs": [],
   "source": [
    "filter_sizes= [2,3,5]\n",
    "num_filters = 400\n",
    "\n",
    "inp = Input(shape=(maxLen,))\n",
    "x = Embedding(num_words, embedding_dim, trainable=True, weights=[embedding_matrix])(inp)\n",
    "x = Dropout(0.1)(x)\n",
    "xreshape = Reshape((maxLen, embedding_dim, 1))(x)\n",
    "conv_2 = Conv2D(num_filters, kernel_size=(filter_sizes[0], embedding_dim), padding='valid', kernel_initializer='normal', activation='relu')(xreshape)\n",
    "conv_3 = Conv2D(num_filters, kernel_size=(filter_sizes[1], embedding_dim), padding='valid', kernel_initializer='normal', activation='relu')(xreshape)\n",
    "conv_5 = Conv2D(num_filters, kernel_size=(filter_sizes[2], embedding_dim), padding='valid', kernel_initializer='normal', activation='relu')(xreshape)\n",
    "\n",
    "maxpool_2 = GlobalMaxPool2D()(conv_2)\n",
    "maxpool_3 = GlobalMaxPool2D()(conv_3)\n",
    "maxpool_5 = GlobalMaxPool2D()(conv_5)\n",
    "\n",
    "avgpool_2 = GlobalAvgPool2D()(conv_2)\n",
    "avgpool_3 = GlobalAvgPool2D()(conv_3)\n",
    "avgpool_5 = GlobalAvgPool2D()(conv_5)\n",
    "\n",
    "x = Concatenate()([maxpool_2, maxpool_3, maxpool_5, avgpool_2, avgpool_3, avgpool_5])\n",
    "x = Dropout(0.2)(x)\n",
    "x = Dense(64, activation='relu')(x)\n",
    "x = Dropout(0.2)(x)\n",
    "out = Dense(len(classes), activation='softmax')(x)\n",
    "model2 = Model(inp, out)"
   ]
  },
  {
   "cell_type": "code",
   "execution_count": 22,
   "metadata": {},
   "outputs": [
    {
     "name": "stdout",
     "output_type": "stream",
     "text": [
      "__________________________________________________________________________________________________\n",
      "Layer (type)                    Output Shape         Param #     Connected to                     \n",
      "==================================================================================================\n",
      "input_4 (InputLayer)            (None, 17)           0                                            \n",
      "__________________________________________________________________________________________________\n",
      "embedding_3 (Embedding)         (None, 17, 50)       573150      input_4[0][0]                    \n",
      "__________________________________________________________________________________________________\n",
      "dropout_5 (Dropout)             (None, 17, 50)       0           embedding_3[0][0]                \n",
      "__________________________________________________________________________________________________\n",
      "reshape_3 (Reshape)             (None, 17, 50, 1)    0           dropout_5[0][0]                  \n",
      "__________________________________________________________________________________________________\n",
      "conv2d_7 (Conv2D)               (None, 16, 1, 400)   40400       reshape_3[0][0]                  \n",
      "__________________________________________________________________________________________________\n",
      "conv2d_8 (Conv2D)               (None, 15, 1, 400)   60400       reshape_3[0][0]                  \n",
      "__________________________________________________________________________________________________\n",
      "conv2d_9 (Conv2D)               (None, 13, 1, 400)   100400      reshape_3[0][0]                  \n",
      "__________________________________________________________________________________________________\n",
      "global_max_pooling2d_2 (GlobalM (None, 400)          0           conv2d_7[0][0]                   \n",
      "__________________________________________________________________________________________________\n",
      "global_max_pooling2d_3 (GlobalM (None, 400)          0           conv2d_8[0][0]                   \n",
      "__________________________________________________________________________________________________\n",
      "global_max_pooling2d_4 (GlobalM (None, 400)          0           conv2d_9[0][0]                   \n",
      "__________________________________________________________________________________________________\n",
      "global_average_pooling2d_1 (Glo (None, 400)          0           conv2d_7[0][0]                   \n",
      "__________________________________________________________________________________________________\n",
      "global_average_pooling2d_2 (Glo (None, 400)          0           conv2d_8[0][0]                   \n",
      "__________________________________________________________________________________________________\n",
      "global_average_pooling2d_3 (Glo (None, 400)          0           conv2d_9[0][0]                   \n",
      "__________________________________________________________________________________________________\n",
      "concatenate_2 (Concatenate)     (None, 2400)         0           global_max_pooling2d_2[0][0]     \n",
      "                                                                 global_max_pooling2d_3[0][0]     \n",
      "                                                                 global_max_pooling2d_4[0][0]     \n",
      "                                                                 global_average_pooling2d_1[0][0] \n",
      "                                                                 global_average_pooling2d_2[0][0] \n",
      "                                                                 global_average_pooling2d_3[0][0] \n",
      "__________________________________________________________________________________________________\n",
      "dropout_6 (Dropout)             (None, 2400)         0           concatenate_2[0][0]              \n",
      "__________________________________________________________________________________________________\n",
      "dense_3 (Dense)                 (None, 64)           153664      dropout_6[0][0]                  \n",
      "__________________________________________________________________________________________________\n",
      "dropout_7 (Dropout)             (None, 64)           0           dense_3[0][0]                    \n",
      "__________________________________________________________________________________________________\n",
      "dense_4 (Dense)                 (None, 7)            455         dropout_7[0][0]                  \n",
      "==================================================================================================\n",
      "Total params: 928,469\n",
      "Trainable params: 928,469\n",
      "Non-trainable params: 0\n",
      "__________________________________________________________________________________________________\n"
     ]
    }
   ],
   "source": [
    "model2.summary()"
   ]
  },
  {
   "cell_type": "code",
   "execution_count": 23,
   "metadata": {
    "collapsed": true
   },
   "outputs": [],
   "source": [
    "model2.compile(loss='categorical_crossentropy', optimizer='rmsprop', metrics=['acc'])"
   ]
  },
  {
   "cell_type": "markdown",
   "metadata": {},
   "source": [
    "### Training the Model"
   ]
  },
  {
   "cell_type": "code",
   "execution_count": 24,
   "metadata": {},
   "outputs": [
    {
     "name": "stdout",
     "output_type": "stream",
     "text": [
      "Train on 13931 samples, validate on 701 samples\n",
      "Epoch 1/16\n",
      "13931/13931 [==============================] - 6s 460us/step - loss: 0.5802 - acc: 0.8210 - val_loss: 0.0895 - val_acc: 0.9715\n",
      "Epoch 2/16\n",
      "13931/13931 [==============================] - 3s 197us/step - loss: 0.1347 - acc: 0.9587 - val_loss: 0.0570 - val_acc: 0.9772\n",
      "Epoch 3/16\n",
      "13931/13931 [==============================] - 3s 200us/step - loss: 0.0876 - acc: 0.9726 - val_loss: 0.0485 - val_acc: 0.9829\n",
      "Epoch 4/16\n",
      "13931/13931 [==============================] - 3s 200us/step - loss: 0.0640 - acc: 0.9794 - val_loss: 0.0448 - val_acc: 0.9843\n",
      "Epoch 5/16\n",
      "13931/13931 [==============================] - 3s 202us/step - loss: 0.0516 - acc: 0.9837 - val_loss: 0.0539 - val_acc: 0.9829\n",
      "Epoch 6/16\n",
      "13931/13931 [==============================] - 3s 200us/step - loss: 0.0422 - acc: 0.9863 - val_loss: 0.0850 - val_acc: 0.9829\n",
      "Epoch 7/16\n",
      "13931/13931 [==============================] - 3s 198us/step - loss: 0.0355 - acc: 0.9892 - val_loss: 0.0513 - val_acc: 0.9857\n",
      "Epoch 8/16\n",
      "13931/13931 [==============================] - 3s 194us/step - loss: 0.0310 - acc: 0.9893 - val_loss: 0.0606 - val_acc: 0.9843\n",
      "Epoch 9/16\n",
      "13931/13931 [==============================] - 3s 192us/step - loss: 0.0303 - acc: 0.9900 - val_loss: 0.0655 - val_acc: 0.9829\n",
      "Epoch 10/16\n",
      "13931/13931 [==============================] - 3s 195us/step - loss: 0.0259 - acc: 0.9920 - val_loss: 0.0707 - val_acc: 0.9829\n",
      "Epoch 11/16\n",
      "13931/13931 [==============================] - 3s 207us/step - loss: 0.0233 - acc: 0.9923 - val_loss: 0.0816 - val_acc: 0.9800\n",
      "Epoch 12/16\n",
      "13931/13931 [==============================] - 3s 195us/step - loss: 0.0236 - acc: 0.9928 - val_loss: 0.0789 - val_acc: 0.9872\n",
      "Epoch 13/16\n",
      "13931/13931 [==============================] - 3s 193us/step - loss: 0.0235 - acc: 0.9922 - val_loss: 0.0596 - val_acc: 0.9857\n",
      "Epoch 14/16\n",
      "13931/13931 [==============================] - 3s 194us/step - loss: 0.0219 - acc: 0.9930 - val_loss: 0.0675 - val_acc: 0.9857\n",
      "Epoch 15/16\n",
      "13931/13931 [==============================] - 3s 198us/step - loss: 0.0219 - acc: 0.9936 - val_loss: 0.0994 - val_acc: 0.9843\n",
      "Epoch 16/16\n",
      "13931/13931 [==============================] - 3s 199us/step - loss: 0.0219 - acc: 0.9933 - val_loss: 0.0739 - val_acc: 0.9872\n"
     ]
    },
    {
     "data": {
      "text/plain": [
       "<keras.callbacks.History at 0x1a07d8554a8>"
      ]
     },
     "execution_count": 24,
     "metadata": {},
     "output_type": "execute_result"
    }
   ],
   "source": [
    "model2.fit(train_sequences, train_label, epochs = 16,\n",
    "          batch_size = 64, shuffle=True,\n",
    "          validation_data=[test_sequences, test_labels])"
   ]
  },
  {
   "cell_type": "markdown",
   "metadata": {},
   "source": [
    "### Inspection"
   ]
  },
  {
   "cell_type": "markdown",
   "metadata": {},
   "source": [
    "Assessing where the model went wrong"
   ]
  },
  {
   "cell_type": "code",
   "execution_count": 109,
   "metadata": {
    "collapsed": true
   },
   "outputs": [],
   "source": [
    "test_preds = model2.predict(test_sequences)"
   ]
  },
  {
   "cell_type": "code",
   "execution_count": 110,
   "metadata": {
    "collapsed": true
   },
   "outputs": [],
   "source": [
    "false_preds=np.nonzero(~np.equal(np.argmax(test_preds,1),np.argmax(test_labels,1)))[0]"
   ]
  },
  {
   "cell_type": "markdown",
   "metadata": {},
   "source": [
    "Similar confusions as before:"
   ]
  },
  {
   "cell_type": "code",
   "execution_count": 111,
   "metadata": {},
   "outputs": [
    {
     "name": "stdout",
     "output_type": "stream",
     "text": [
      "The command is:  playlist called Hands Up, The label is:AddToPlaylist, The prediction is:SearchCreativeWork\n",
      "\n",
      "The command is: When is sunrise for AR, The label is:GetWeather, The prediction is:BookRestaurant\n",
      "\n",
      "The command is: Where is Belgium located, The label is:GetWeather, The prediction is:BookRestaurant\n",
      "\n",
      "The command is: Live In L.aJoseph Meyer please, The label is:PlayMusic, The prediction is:SearchCreativeWork\n",
      "\n",
      "The command is: Put What Color Is Your Sky by Alana Davis on the stereo., The label is:PlayMusic, The prediction is:AddToPlaylist\n",
      "\n",
      "The command is: Where can I see The Prime Ministers: The Pioneers, The label is:SearchScreeningEvent, The prediction is:SearchCreativeWork\n",
      "\n",
      "The command is: Can I see Ellis Island Revisited in 1 minute, The label is:SearchScreeningEvent, The prediction is:GetWeather\n",
      "\n",
      "The command is: I want to see Shattered Image., The label is:SearchScreeningEvent, The prediction is:SearchCreativeWork\n",
      "\n",
      "The command is: I want to see Outcast., The label is:SearchScreeningEvent, The prediction is:SearchCreativeWork\n",
      "\n"
     ]
    }
   ],
   "source": [
    "for ind in false_preds:\n",
    "    print('The command is: {}, The label is:{}, The prediction is:{}\\n'\\\n",
    "          .format(test_txt[ind],\n",
    "                  classes[np.argmax(test_labels[ind])],\n",
    "                  classes[np.argmax(test_preds[ind])]))"
   ]
  },
  {
   "cell_type": "code",
   "execution_count": null,
   "metadata": {
    "collapsed": true
   },
   "outputs": [],
   "source": []
  },
  {
   "cell_type": "code",
   "execution_count": null,
   "metadata": {
    "collapsed": true
   },
   "outputs": [],
   "source": []
  },
  {
   "cell_type": "code",
   "execution_count": null,
   "metadata": {
    "collapsed": true
   },
   "outputs": [],
   "source": []
  }
 ],
 "metadata": {
  "kernelspec": {
   "display_name": "Python 3",
   "language": "python",
   "name": "python3"
  },
  "language_info": {
   "codemirror_mode": {
    "name": "ipython",
    "version": 3
   },
   "file_extension": ".py",
   "mimetype": "text/x-python",
   "name": "python",
   "nbconvert_exporter": "python",
   "pygments_lexer": "ipython3",
   "version": "3.6.1"
  }
 },
 "nbformat": 4,
 "nbformat_minor": 2
}
